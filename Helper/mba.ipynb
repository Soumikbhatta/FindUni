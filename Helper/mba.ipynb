{
 "cells": [
  {
   "cell_type": "code",
   "execution_count": 2,
   "metadata": {},
   "outputs": [],
   "source": [
    "import json\n",
    "import csv"
   ]
  },
  {
   "cell_type": "code",
   "execution_count": 3,
   "metadata": {},
   "outputs": [
    {
     "data": {
      "text/plain": [
       "['city_name',\n",
       " 'country_name',\n",
       " 'final_placements_domestic_salary_avg',\n",
       " 'institute_name',\n",
       " 'program_duration',\n",
       " 'program_duration_text',\n",
       " 'program_name',\n",
       " 'specialization_name',\n",
       " 'state_name',\n",
       " 'test_cutoff',\n",
       " 'tests_accepted',\n",
       " 'tution_fees_local_country_student']"
      ]
     },
     "execution_count": 3,
     "metadata": {},
     "output_type": "execute_result"
    }
   ],
   "source": [
    "f=json.loads(open(\"data.json\").read())\n",
    "fields_names=f[0].keys()\n",
    "fields_name=list(fields_names)\n",
    "fields_name.sort()\n",
    "fields_name\n"
   ]
  },
  {
   "cell_type": "code",
   "execution_count": 4,
   "metadata": {},
   "outputs": [],
   "source": [
    "fields_names=['institute_name',\n",
    " 'program_name',\n",
    " 'tests_accepted',\n",
    " 'test_cutoff',\n",
    "   'city_name',\n",
    " 'program_duration',\n",
    " 'country_name',\n",
    " 'program_duration_text',\n",
    " 'final_placements_domestic_salary_avg',\n",
    " 'specialization_name',\n",
    " 'state_name',\n",
    " 'tution_fees_local_country_student']"
   ]
  },
  {
   "cell_type": "code",
   "execution_count": 5,
   "metadata": {},
   "outputs": [],
   "source": [
    "with open('data.csv', 'w') as csvfile:\n",
    "    writer = csv.DictWriter(csvfile, fieldnames = fields_names)\n",
    "    writer.writeheader()\n",
    "    writer.writerows(f)"
   ]
  },
  {
   "cell_type": "code",
   "execution_count": 6,
   "metadata": {},
   "outputs": [
    {
     "data": {
      "text/plain": [
       "['CAT',\n",
       " 'KMAT',\n",
       " 'IBSAT',\n",
       " 'GMAT',\n",
       " 'JMET',\n",
       " 'IIFT',\n",
       " 'XAT',\n",
       " 'ATMA',\n",
       " 'CMAT',\n",
       " 'UPSEE',\n",
       " 'NMAT',\n",
       " 'Others',\n",
       " 'PGCET',\n",
       " 'JMAT',\n",
       " 'MICAT',\n",
       " 'MAT',\n",
       " 'GRE',\n",
       " 'IRMASAT',\n",
       " 'TANCET']"
      ]
     },
     "execution_count": 6,
     "metadata": {},
     "output_type": "execute_result"
    }
   ],
   "source": [
    "tests=[i['tests_accepted'] for i in f]\n",
    "tests=\" \".join(tests)\n",
    "tests=tests.split()\n",
    "sets=set(tests)\n",
    "sets=[i for i in sets if i.isalpha()]\n",
    "sets"
   ]
  }
 ],
 "metadata": {
  "interpreter": {
   "hash": "d9feab5a1f5d805ccfa6afac8eb9a08ce4745df9a38ca9beb1bb90cbf90b919c"
  },
  "kernelspec": {
   "display_name": "Python 3.9.5 64-bit",
   "language": "python",
   "name": "python3"
  },
  "language_info": {
   "codemirror_mode": {
    "name": "ipython",
    "version": 3
   },
   "file_extension": ".py",
   "mimetype": "text/x-python",
   "name": "python",
   "nbconvert_exporter": "python",
   "pygments_lexer": "ipython3",
   "version": "3.9.5"
  },
  "orig_nbformat": 4
 },
 "nbformat": 4,
 "nbformat_minor": 2
}
