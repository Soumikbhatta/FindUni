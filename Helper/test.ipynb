{
 "cells": [
  {
   "cell_type": "code",
   "execution_count": null,
   "metadata": {},
   "outputs": [],
   "source": [
    "import json\n"
   ]
  },
  {
   "cell_type": "code",
   "execution_count": null,
   "metadata": {},
   "outputs": [],
   "source": [
    "a=['IBSAT',\n",
    " 'NMAT',\n",
    " 'GRE',\n",
    " 'XAT',\n",
    " 'CAT',\n",
    " 'ATMA',\n",
    " 'JMET',\n",
    " 'TANCET',\n",
    " 'IIFT',\n",
    " 'KMAT',\n",
    " 'GMAT',\n",
    " 'CMAT',\n",
    " 'Others',\n",
    " 'PGCET',\n",
    " 'MAT',\n",
    " 'MICAT',\n",
    " 'JMAT',\n",
    " 'UPSEE',\n",
    " 'IRMASAT']\n",
    "\n",
    "for i in a:\n",
    "    print(f'<option value=\"{i}\">{i}</option>')\n"
   ]
  },
  {
   "cell_type": "code",
   "execution_count": null,
   "metadata": {},
   "outputs": [],
   "source": [
    "d=dict.fromkeys(a,[])\n",
    "f=json.loads(open(\"data.json\").read())\n",
    "print(f)\n",
    "\"CAT\" in f[25]['tests_accepted']"
   ]
  },
  {
   "cell_type": "code",
   "execution_count": null,
   "metadata": {},
   "outputs": [],
   "source": [
    "a=[\"IBSAT\",\n",
    " \"NMAT\",\n",
    " \"GRE\",\n",
    " \"XAT\",\n",
    " \"CAT\",\n",
    " \"ATMA\",\n",
    " \"JMET\",\n",
    " \"TANCET\",\n",
    " \"IIFT\",\n",
    " \"KMAT\",\n",
    " \"GMAT\",\n",
    " \"CMAT\",\n",
    " \"Others\",\n",
    " \"PGCET\",\n",
    " \"MAT\",\n",
    " \"MICAT\",\n",
    " \"JMAT\",\n",
    " \"UPSEE\",\n",
    " \"IRMASAT\"]\n",
    "\n",
    "# for test in a:\n",
    "#     d[test]=[]\n",
    "#     for college in f:\n",
    "#         if test in college['tests_accepted']:\n",
    "#             try:\n",
    "#                 d[test].append(college['institute_name'])\n",
    "#                 # print(test,college['institute_name'])\n",
    "#             except:\n",
    "#                 pass\n",
    "            \n",
    "    \n",
    "# tests_given=json.dumps(d)\n",
    "\n",
    "# with open(\"tests.json\",'w',encoding=\"UTF-8\") as t:\n",
    "#     t.write(tests_given)    \n",
    "for key in d:\n",
    "    d[key]=set(d[key])\n",
    "\n",
    "d\n",
    "# print(\"IBSAT\" in \"CAT, XAT, GMAT\")"
   ]
  }
 ],
 "metadata": {
  "interpreter": {
   "hash": "d9feab5a1f5d805ccfa6afac8eb9a08ce4745df9a38ca9beb1bb90cbf90b919c"
  },
  "kernelspec": {
   "display_name": "Python 3.9.5 64-bit",
   "language": "python",
   "name": "python3"
  },
  "language_info": {
   "codemirror_mode": {
    "name": "ipython",
    "version": 3
   },
   "file_extension": ".py",
   "mimetype": "text/x-python",
   "name": "python",
   "nbconvert_exporter": "python",
   "pygments_lexer": "ipython3",
   "version": "3.9.5"
  },
  "orig_nbformat": 4
 },
 "nbformat": 4,
 "nbformat_minor": 2
}
